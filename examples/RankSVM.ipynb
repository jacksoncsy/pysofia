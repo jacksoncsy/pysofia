{
 "worksheets": [
  {
   "cells": [
    {
     "cell_type": "markdown",
     "metadata": {},
     "source": [
      "Example usage of RankSVM using pysofia\n",
      "======================================"
     ]
    },
    {
     "cell_type": "code",
     "metadata": {},
     "outputs": [
      {
       "output_type": "stream",
       "stream": "stdout",
       "text": [
        "Populating the interactive namespace from numpy and matplotlib\n"
       ]
      }
     ],
     "input": [
      "%pylab inline\n",
      "from sklearn import cross_validation\n",
      "from pysofia.compat import RankSVM, RankSVMCV"
     ],
     "language": "python",
     "prompt_number": 1
    },
    {
     "cell_type": "code",
     "metadata": {},
     "outputs": [],
     "input": [
      "n_samples, n_features = 500, 2000\n",
      "X = np.random.randn(n_samples, n_features)\n",
      "w = np.random.randn(n_features)\n",
      "y = (X.dot(w) + np.random.randn(n_samples)).astype(np.int)"
     ],
     "language": "python",
     "prompt_number": 2
    },
    {
     "cell_type": "code",
     "metadata": {},
     "outputs": [
      {
       "output_type": "stream",
       "stream": "stdout",
       "text": [
        "[ 0.05145487  0.00969438  0.01222821]\n",
        "0.0244591529354\n"
       ]
      }
     ],
     "input": [
      "scores = cross_validation.cross_val_score(RankSVM(max_iter=200), X, y)\n",
      "print(scores)\n",
      "print(np.mean(scores))"
     ],
     "language": "python",
     "prompt_number": 4
    },
    {
     "cell_type": "code",
     "metadata": {},
     "outputs": [
      {
       "output_type": "stream",
       "stream": "stdout",
       "text": [
        "[ 0.0772185   0.11343867  0.11517947]\n",
        "0.1019455483\n"
       ]
      }
     ],
     "input": [
      "scores = cross_validation.cross_val_score(RankSVMCV(max_iter=200), X, y)\n",
      "print(scores)\n",
      "print(np.mean(scores))"
     ],
     "language": "python",
     "prompt_number": 5
    },
    {
     "cell_type": "code",
     "metadata": {},
     "outputs": [],
     "input": [
      ""
     ],
     "language": "python",
     "prompt_number": 5
    }
   ]
  }
 ],
 "cells": [],
 "metadata": {
  "name": "",
  "signature": "sha256:62053c7fab87839cdd129a0d7c4e4f761d8cbb85765250185fb1c16bf3ab93a4"
 },
 "nbformat": 3,
 "nbformat_minor": 0
}